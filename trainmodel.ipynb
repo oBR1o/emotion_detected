{
 "cells": [
  {
   "cell_type": "code",
   "execution_count": 3,
   "id": "35363f31-a6a4-44b4-aa16-3397a8432645",
   "metadata": {},
   "outputs": [],
   "source": [
    "from keras.utils import to_categorical\n",
    "from keras.preprocessing import image\n",
    "from keras_preprocessing.image import load_img\n",
    "from keras.models import Sequential\n",
    "from keras.layers import Dense, Conv2D, Dropout, Flatten, MaxPooling2D\n",
    "import os\n",
    "import pandas as pd\n",
    "import numpy as np"
   ]
  },
  {
   "cell_type": "code",
   "execution_count": 8,
   "id": "720bf041-5cb8-4ac4-a720-7b866d1c5a19",
   "metadata": {},
   "outputs": [],
   "source": [
    "TRAIN_DIR = 'images/train'\n",
    "TEST_DIR = 'images/test'"
   ]
  },
  {
   "cell_type": "code",
   "execution_count": 9,
   "id": "87102807-b9d6-412a-a2fe-8d2367bd6414",
   "metadata": {},
   "outputs": [],
   "source": [
    "def createdataframe(dir):\n",
    "    image_paths = []\n",
    "    labels = []\n",
    "    for label in os.listdir(dir):\n",
    "        for imagename in os.listdir(os.path.join(dir,label)):\n",
    "            image_paths.append(os.path.join(dir,label,imagename))\n",
    "            labels.append(label)\n",
    "        print(label, \"completed\")\n",
    "    return image_paths,labels"
   ]
  },
  {
   "cell_type": "code",
   "execution_count": 10,
   "id": "4d50e85e-3016-4cfa-a907-8d302b7b1507",
   "metadata": {},
   "outputs": [
    {
     "name": "stdout",
     "output_type": "stream",
     "text": [
      "angry completed\n",
      "disgust completed\n",
      "fear completed\n",
      "happy completed\n",
      "neutral completed\n",
      "sad completed\n",
      "surprise completed\n"
     ]
    }
   ],
   "source": [
    "train = pd.DataFrame()\n",
    "train['image'], train['label'] = createdataframe(TRAIN_DIR)"
   ]
  },
  {
   "cell_type": "code",
   "execution_count": 11,
   "id": "abab24f8-6102-472d-8190-6dacd403f370",
   "metadata": {},
   "outputs": [
    {
     "name": "stdout",
     "output_type": "stream",
     "text": [
      "                                image     label\n",
      "0            images/train\\angry\\0.jpg     angry\n",
      "1            images/train\\angry\\1.jpg     angry\n",
      "2           images/train\\angry\\10.jpg     angry\n",
      "3        images/train\\angry\\10002.jpg     angry\n",
      "4        images/train\\angry\\10016.jpg     angry\n",
      "...                               ...       ...\n",
      "28816  images/train\\surprise\\9969.jpg  surprise\n",
      "28817  images/train\\surprise\\9985.jpg  surprise\n",
      "28818  images/train\\surprise\\9990.jpg  surprise\n",
      "28819  images/train\\surprise\\9992.jpg  surprise\n",
      "28820  images/train\\surprise\\9996.jpg  surprise\n",
      "\n",
      "[28821 rows x 2 columns]\n"
     ]
    }
   ],
   "source": [
    "print(train)"
   ]
  },
  {
   "cell_type": "code",
   "execution_count": 12,
   "id": "80ac780f-83e6-43ab-99dd-629f897158e8",
   "metadata": {},
   "outputs": [
    {
     "name": "stdout",
     "output_type": "stream",
     "text": [
      "angry completed\n",
      "disgust completed\n",
      "fear completed\n",
      "happy completed\n",
      "neutral completed\n",
      "sad completed\n",
      "surprise completed\n"
     ]
    }
   ],
   "source": [
    "test = pd.DataFrame()\n",
    "test['image'], test['label'] = createdataframe(TEST_DIR)"
   ]
  },
  {
   "cell_type": "code",
   "execution_count": 13,
   "id": "75752b6b-153e-4715-a924-335a7512e761",
   "metadata": {},
   "outputs": [
    {
     "name": "stdout",
     "output_type": "stream",
     "text": [
      "                              image     label\n",
      "0       images/test\\angry\\10052.jpg     angry\n",
      "1       images/test\\angry\\10065.jpg     angry\n",
      "2       images/test\\angry\\10079.jpg     angry\n",
      "3       images/test\\angry\\10095.jpg     angry\n",
      "4       images/test\\angry\\10121.jpg     angry\n",
      "...                             ...       ...\n",
      "7061  images/test\\surprise\\9806.jpg  surprise\n",
      "7062  images/test\\surprise\\9830.jpg  surprise\n",
      "7063  images/test\\surprise\\9853.jpg  surprise\n",
      "7064  images/test\\surprise\\9878.jpg  surprise\n",
      "7065   images/test\\surprise\\993.jpg  surprise\n",
      "\n",
      "[7066 rows x 2 columns]\n",
      "0         images/test\\angry\\10052.jpg\n",
      "1         images/test\\angry\\10065.jpg\n",
      "2         images/test\\angry\\10079.jpg\n",
      "3         images/test\\angry\\10095.jpg\n",
      "4         images/test\\angry\\10121.jpg\n",
      "                    ...              \n",
      "7061    images/test\\surprise\\9806.jpg\n",
      "7062    images/test\\surprise\\9830.jpg\n",
      "7063    images/test\\surprise\\9853.jpg\n",
      "7064    images/test\\surprise\\9878.jpg\n",
      "7065     images/test\\surprise\\993.jpg\n",
      "Name: image, Length: 7066, dtype: object\n"
     ]
    }
   ],
   "source": [
    "print(test)\n",
    "print(test['image'])"
   ]
  },
  {
   "cell_type": "code",
   "execution_count": 14,
   "id": "0b1f3421-99d2-4f04-8e3b-ee72686ae3ac",
   "metadata": {},
   "outputs": [],
   "source": [
    "from tqdm.notebook import tqdm"
   ]
  },
  {
   "cell_type": "code",
   "execution_count": 15,
   "id": "5f2c59ef-783b-4eeb-831e-b8d90f501c00",
   "metadata": {},
   "outputs": [],
   "source": [
    "def extract_features(images):\n",
    "    features = []\n",
    "    for image in tqdm(images):\n",
    "        img = load_img(image,grayscale =  True )\n",
    "        img = np.array(img)\n",
    "        features.append(img)\n",
    "    features = np.array(features)\n",
    "    features = features.reshape(len(features),48,48,1)\n",
    "    return features"
   ]
  },
  {
   "cell_type": "code",
   "execution_count": 16,
   "id": "c8285b7a-133b-47fe-8bea-d4b914e0925c",
   "metadata": {},
   "outputs": [
    {
     "data": {
      "application/vnd.jupyter.widget-view+json": {
       "model_id": "77c394e8a1ca47c785deba5df517b686",
       "version_major": 2,
       "version_minor": 0
      },
      "text/plain": [
       "  0%|          | 0/28821 [00:00<?, ?it/s]"
      ]
     },
     "metadata": {},
     "output_type": "display_data"
    },
    {
     "name": "stderr",
     "output_type": "stream",
     "text": [
      "C:\\Users\\BR1\\AppData\\Local\\Packages\\PythonSoftwareFoundation.Python.3.11_qbz5n2kfra8p0\\LocalCache\\local-packages\\Python311\\site-packages\\keras_preprocessing\\image\\utils.py:107: UserWarning: grayscale is deprecated. Please use color_mode = \"grayscale\"\n",
      "  warnings.warn('grayscale is deprecated. Please use '\n"
     ]
    }
   ],
   "source": [
    "train_features = extract_features(train['image'])"
   ]
  },
  {
   "cell_type": "code",
   "execution_count": 17,
   "id": "b1c37d88-28bd-479d-8daf-9fca8bff0191",
   "metadata": {},
   "outputs": [
    {
     "data": {
      "application/vnd.jupyter.widget-view+json": {
       "model_id": "d489aa05e6e0409a8c0e63bee8a9110b",
       "version_major": 2,
       "version_minor": 0
      },
      "text/plain": [
       "  0%|          | 0/7066 [00:00<?, ?it/s]"
      ]
     },
     "metadata": {},
     "output_type": "display_data"
    }
   ],
   "source": [
    "test_features = extract_features(test['image'])"
   ]
  },
  {
   "cell_type": "code",
   "execution_count": 18,
   "id": "ac6bda4e-331a-4a10-a610-c228619290b1",
   "metadata": {},
   "outputs": [],
   "source": [
    "x_train = train_features/255.0\n",
    "x_test = test_features/255.0"
   ]
  },
  {
   "cell_type": "code",
   "execution_count": 19,
   "id": "31181b55-5caf-4951-b558-969e2cafb637",
   "metadata": {},
   "outputs": [],
   "source": [
    "from sklearn.preprocessing import LabelEncoder"
   ]
  },
  {
   "cell_type": "code",
   "execution_count": 20,
   "id": "511c39e7-bd46-4686-a33f-fcae3547053b",
   "metadata": {},
   "outputs": [
    {
     "data": {
      "text/html": [
       "<style>#sk-container-id-1 {color: black;}#sk-container-id-1 pre{padding: 0;}#sk-container-id-1 div.sk-toggleable {background-color: white;}#sk-container-id-1 label.sk-toggleable__label {cursor: pointer;display: block;width: 100%;margin-bottom: 0;padding: 0.3em;box-sizing: border-box;text-align: center;}#sk-container-id-1 label.sk-toggleable__label-arrow:before {content: \"▸\";float: left;margin-right: 0.25em;color: #696969;}#sk-container-id-1 label.sk-toggleable__label-arrow:hover:before {color: black;}#sk-container-id-1 div.sk-estimator:hover label.sk-toggleable__label-arrow:before {color: black;}#sk-container-id-1 div.sk-toggleable__content {max-height: 0;max-width: 0;overflow: hidden;text-align: left;background-color: #f0f8ff;}#sk-container-id-1 div.sk-toggleable__content pre {margin: 0.2em;color: black;border-radius: 0.25em;background-color: #f0f8ff;}#sk-container-id-1 input.sk-toggleable__control:checked~div.sk-toggleable__content {max-height: 200px;max-width: 100%;overflow: auto;}#sk-container-id-1 input.sk-toggleable__control:checked~label.sk-toggleable__label-arrow:before {content: \"▾\";}#sk-container-id-1 div.sk-estimator input.sk-toggleable__control:checked~label.sk-toggleable__label {background-color: #d4ebff;}#sk-container-id-1 div.sk-label input.sk-toggleable__control:checked~label.sk-toggleable__label {background-color: #d4ebff;}#sk-container-id-1 input.sk-hidden--visually {border: 0;clip: rect(1px 1px 1px 1px);clip: rect(1px, 1px, 1px, 1px);height: 1px;margin: -1px;overflow: hidden;padding: 0;position: absolute;width: 1px;}#sk-container-id-1 div.sk-estimator {font-family: monospace;background-color: #f0f8ff;border: 1px dotted black;border-radius: 0.25em;box-sizing: border-box;margin-bottom: 0.5em;}#sk-container-id-1 div.sk-estimator:hover {background-color: #d4ebff;}#sk-container-id-1 div.sk-parallel-item::after {content: \"\";width: 100%;border-bottom: 1px solid gray;flex-grow: 1;}#sk-container-id-1 div.sk-label:hover label.sk-toggleable__label {background-color: #d4ebff;}#sk-container-id-1 div.sk-serial::before {content: \"\";position: absolute;border-left: 1px solid gray;box-sizing: border-box;top: 0;bottom: 0;left: 50%;z-index: 0;}#sk-container-id-1 div.sk-serial {display: flex;flex-direction: column;align-items: center;background-color: white;padding-right: 0.2em;padding-left: 0.2em;position: relative;}#sk-container-id-1 div.sk-item {position: relative;z-index: 1;}#sk-container-id-1 div.sk-parallel {display: flex;align-items: stretch;justify-content: center;background-color: white;position: relative;}#sk-container-id-1 div.sk-item::before, #sk-container-id-1 div.sk-parallel-item::before {content: \"\";position: absolute;border-left: 1px solid gray;box-sizing: border-box;top: 0;bottom: 0;left: 50%;z-index: -1;}#sk-container-id-1 div.sk-parallel-item {display: flex;flex-direction: column;z-index: 1;position: relative;background-color: white;}#sk-container-id-1 div.sk-parallel-item:first-child::after {align-self: flex-end;width: 50%;}#sk-container-id-1 div.sk-parallel-item:last-child::after {align-self: flex-start;width: 50%;}#sk-container-id-1 div.sk-parallel-item:only-child::after {width: 0;}#sk-container-id-1 div.sk-dashed-wrapped {border: 1px dashed gray;margin: 0 0.4em 0.5em 0.4em;box-sizing: border-box;padding-bottom: 0.4em;background-color: white;}#sk-container-id-1 div.sk-label label {font-family: monospace;font-weight: bold;display: inline-block;line-height: 1.2em;}#sk-container-id-1 div.sk-label-container {text-align: center;}#sk-container-id-1 div.sk-container {/* jupyter's `normalize.less` sets `[hidden] { display: none; }` but bootstrap.min.css set `[hidden] { display: none !important; }` so we also need the `!important` here to be able to override the default hidden behavior on the sphinx rendered scikit-learn.org. See: https://github.com/scikit-learn/scikit-learn/issues/21755 */display: inline-block !important;position: relative;}#sk-container-id-1 div.sk-text-repr-fallback {display: none;}</style><div id=\"sk-container-id-1\" class=\"sk-top-container\"><div class=\"sk-text-repr-fallback\"><pre>LabelEncoder()</pre><b>In a Jupyter environment, please rerun this cell to show the HTML representation or trust the notebook. <br />On GitHub, the HTML representation is unable to render, please try loading this page with nbviewer.org.</b></div><div class=\"sk-container\" hidden><div class=\"sk-item\"><div class=\"sk-estimator sk-toggleable\"><input class=\"sk-toggleable__control sk-hidden--visually\" id=\"sk-estimator-id-1\" type=\"checkbox\" checked><label for=\"sk-estimator-id-1\" class=\"sk-toggleable__label sk-toggleable__label-arrow\">LabelEncoder</label><div class=\"sk-toggleable__content\"><pre>LabelEncoder()</pre></div></div></div></div></div>"
      ],
      "text/plain": [
       "LabelEncoder()"
      ]
     },
     "execution_count": 20,
     "metadata": {},
     "output_type": "execute_result"
    }
   ],
   "source": [
    "le = LabelEncoder()\n",
    "le.fit(train['label'])"
   ]
  },
  {
   "cell_type": "code",
   "execution_count": 21,
   "id": "b6c1c8d3-88cb-4849-a9a5-511f1ddeaa41",
   "metadata": {},
   "outputs": [],
   "source": [
    "y_train = le.transform(train['label'])\n",
    "y_test = le.transform(test['label'])"
   ]
  },
  {
   "cell_type": "code",
   "execution_count": 22,
   "id": "1957a1f5-8d0f-45a5-8387-360e55d550bb",
   "metadata": {},
   "outputs": [],
   "source": [
    "y_train = to_categorical(y_train,num_classes = 7)\n",
    "y_test = to_categorical(y_test,num_classes = 7)"
   ]
  },
  {
   "cell_type": "code",
   "execution_count": 23,
   "id": "ae9304f0-864b-4dd3-b39d-72c59cc88a1b",
   "metadata": {},
   "outputs": [],
   "source": [
    "model = Sequential()\n",
    "# convolutional layers\n",
    "model.add(Conv2D(128, kernel_size=(3,3), activation='relu', input_shape=(48,48,1)))\n",
    "model.add(MaxPooling2D(pool_size=(2,2)))\n",
    "model.add(Dropout(0.4))\n",
    "\n",
    "model.add(Conv2D(256, kernel_size=(3,3), activation='relu'))\n",
    "model.add(MaxPooling2D(pool_size=(2,2)))\n",
    "model.add(Dropout(0.4))\n",
    "\n",
    "model.add(Conv2D(512, kernel_size=(3,3), activation='relu'))\n",
    "model.add(MaxPooling2D(pool_size=(2,2)))\n",
    "model.add(Dropout(0.4))\n",
    "\n",
    "model.add(Conv2D(512, kernel_size=(3,3), activation='relu'))\n",
    "model.add(MaxPooling2D(pool_size=(2,2)))\n",
    "model.add(Dropout(0.4))\n",
    "\n",
    "model.add(Flatten())\n",
    "# fully connected layers\n",
    "model.add(Dense(512, activation='relu'))\n",
    "model.add(Dropout(0.4))\n",
    "model.add(Dense(256, activation='relu'))\n",
    "model.add(Dropout(0.3))\n",
    "# output layer\n",
    "model.add(Dense(7, activation='softmax'))"
   ]
  },
  {
   "cell_type": "code",
   "execution_count": 24,
   "id": "bbca8872-e44f-42ab-b247-b6d83560c9f4",
   "metadata": {},
   "outputs": [],
   "source": [
    "model.compile(optimizer = 'adam', loss = 'categorical_crossentropy', metrics = 'accuracy' )"
   ]
  },
  {
   "cell_type": "code",
   "execution_count": 25,
   "id": "e867d19f-b988-4138-8aae-c6677b1474c8",
   "metadata": {},
   "outputs": [
    {
     "name": "stdout",
     "output_type": "stream",
     "text": [
      "Epoch 1/100\n",
      "226/226 [==============================] - 585s 3s/step - loss: 1.8260 - accuracy: 0.2431 - val_loss: 1.8119 - val_accuracy: 0.2583\n",
      "Epoch 2/100\n",
      "226/226 [==============================] - 548s 2s/step - loss: 1.8020 - accuracy: 0.2503 - val_loss: 1.7753 - val_accuracy: 0.2597\n",
      "Epoch 3/100\n",
      "226/226 [==============================] - 376s 2s/step - loss: 1.7300 - accuracy: 0.2909 - val_loss: 1.6235 - val_accuracy: 0.3500\n",
      "Epoch 4/100\n",
      "226/226 [==============================] - 339s 2s/step - loss: 1.5952 - accuracy: 0.3687 - val_loss: 1.4717 - val_accuracy: 0.4377\n",
      "Epoch 5/100\n",
      "226/226 [==============================] - 339s 1s/step - loss: 1.4962 - accuracy: 0.4148 - val_loss: 1.3660 - val_accuracy: 0.4752\n",
      "Epoch 6/100\n",
      "226/226 [==============================] - 332s 1s/step - loss: 1.4347 - accuracy: 0.4431 - val_loss: 1.3101 - val_accuracy: 0.5010\n",
      "Epoch 7/100\n",
      "226/226 [==============================] - 330s 1s/step - loss: 1.3839 - accuracy: 0.4664 - val_loss: 1.2795 - val_accuracy: 0.5139\n",
      "Epoch 8/100\n",
      "226/226 [==============================] - 330s 1s/step - loss: 1.3521 - accuracy: 0.4785 - val_loss: 1.2462 - val_accuracy: 0.5173\n",
      "Epoch 9/100\n",
      "226/226 [==============================] - 331s 1s/step - loss: 1.3324 - accuracy: 0.4883 - val_loss: 1.2194 - val_accuracy: 0.5467\n",
      "Epoch 10/100\n",
      "226/226 [==============================] - 330s 1s/step - loss: 1.2987 - accuracy: 0.5052 - val_loss: 1.1855 - val_accuracy: 0.5498\n",
      "Epoch 11/100\n",
      "226/226 [==============================] - 330s 1s/step - loss: 1.2824 - accuracy: 0.5067 - val_loss: 1.1785 - val_accuracy: 0.5565\n",
      "Epoch 12/100\n",
      "226/226 [==============================] - 332s 1s/step - loss: 1.2632 - accuracy: 0.5184 - val_loss: 1.1613 - val_accuracy: 0.5652\n",
      "Epoch 13/100\n",
      "226/226 [==============================] - 336s 1s/step - loss: 1.2439 - accuracy: 0.5268 - val_loss: 1.1546 - val_accuracy: 0.5654\n",
      "Epoch 14/100\n",
      "226/226 [==============================] - 337s 1s/step - loss: 1.2270 - accuracy: 0.5333 - val_loss: 1.1398 - val_accuracy: 0.5678\n",
      "Epoch 15/100\n",
      "226/226 [==============================] - 332s 1s/step - loss: 1.2199 - accuracy: 0.5343 - val_loss: 1.1362 - val_accuracy: 0.5688\n",
      "Epoch 16/100\n",
      "226/226 [==============================] - 329s 1s/step - loss: 1.2076 - accuracy: 0.5410 - val_loss: 1.1217 - val_accuracy: 0.5783\n",
      "Epoch 17/100\n",
      "226/226 [==============================] - 337s 1s/step - loss: 1.1921 - accuracy: 0.5451 - val_loss: 1.1309 - val_accuracy: 0.5759\n",
      "Epoch 18/100\n",
      "226/226 [==============================] - 337s 1s/step - loss: 1.1759 - accuracy: 0.5511 - val_loss: 1.1129 - val_accuracy: 0.5805\n",
      "Epoch 19/100\n",
      "226/226 [==============================] - 336s 1s/step - loss: 1.1678 - accuracy: 0.5588 - val_loss: 1.1145 - val_accuracy: 0.5848\n",
      "Epoch 20/100\n",
      "226/226 [==============================] - 337s 1s/step - loss: 1.1626 - accuracy: 0.5626 - val_loss: 1.0919 - val_accuracy: 0.5916\n",
      "Epoch 21/100\n",
      "226/226 [==============================] - 331s 1s/step - loss: 1.1559 - accuracy: 0.5655 - val_loss: 1.0898 - val_accuracy: 0.5883\n",
      "Epoch 22/100\n",
      "226/226 [==============================] - 338s 1s/step - loss: 1.1442 - accuracy: 0.5652 - val_loss: 1.0882 - val_accuracy: 0.5886\n",
      "Epoch 23/100\n",
      "226/226 [==============================] - 335s 1s/step - loss: 1.1329 - accuracy: 0.5697 - val_loss: 1.0862 - val_accuracy: 0.5892\n",
      "Epoch 24/100\n",
      "226/226 [==============================] - 329s 1s/step - loss: 1.1232 - accuracy: 0.5733 - val_loss: 1.0760 - val_accuracy: 0.5911\n",
      "Epoch 25/100\n",
      "226/226 [==============================] - 329s 1s/step - loss: 1.1167 - accuracy: 0.5734 - val_loss: 1.0913 - val_accuracy: 0.5911\n",
      "Epoch 26/100\n",
      "226/226 [==============================] - 328s 1s/step - loss: 1.1064 - accuracy: 0.5808 - val_loss: 1.0710 - val_accuracy: 0.5965\n",
      "Epoch 27/100\n",
      "226/226 [==============================] - 328s 1s/step - loss: 1.0948 - accuracy: 0.5859 - val_loss: 1.0638 - val_accuracy: 0.6016\n",
      "Epoch 28/100\n",
      "226/226 [==============================] - 328s 1s/step - loss: 1.0867 - accuracy: 0.5874 - val_loss: 1.0691 - val_accuracy: 0.6025\n",
      "Epoch 29/100\n",
      "226/226 [==============================] - 328s 1s/step - loss: 1.0854 - accuracy: 0.5878 - val_loss: 1.0696 - val_accuracy: 0.5999\n",
      "Epoch 30/100\n",
      "226/226 [==============================] - 328s 1s/step - loss: 1.0793 - accuracy: 0.5923 - val_loss: 1.0584 - val_accuracy: 0.6070\n",
      "Epoch 31/100\n",
      "226/226 [==============================] - 327s 1s/step - loss: 1.0748 - accuracy: 0.5949 - val_loss: 1.0648 - val_accuracy: 0.6059\n",
      "Epoch 32/100\n",
      "226/226 [==============================] - 328s 1s/step - loss: 1.0767 - accuracy: 0.5947 - val_loss: 1.0704 - val_accuracy: 0.6027\n",
      "Epoch 33/100\n",
      "226/226 [==============================] - 326s 1s/step - loss: 1.0553 - accuracy: 0.6011 - val_loss: 1.0510 - val_accuracy: 0.6085\n",
      "Epoch 34/100\n",
      "226/226 [==============================] - 328s 1s/step - loss: 1.0543 - accuracy: 0.6017 - val_loss: 1.0535 - val_accuracy: 0.6052\n",
      "Epoch 35/100\n",
      "226/226 [==============================] - 327s 1s/step - loss: 1.0422 - accuracy: 0.6051 - val_loss: 1.0597 - val_accuracy: 0.6066\n",
      "Epoch 36/100\n",
      "226/226 [==============================] - 327s 1s/step - loss: 1.0380 - accuracy: 0.6080 - val_loss: 1.0474 - val_accuracy: 0.6087\n",
      "Epoch 37/100\n",
      "226/226 [==============================] - 325s 1s/step - loss: 1.0266 - accuracy: 0.6119 - val_loss: 1.0575 - val_accuracy: 0.6030\n",
      "Epoch 38/100\n",
      "226/226 [==============================] - 326s 1s/step - loss: 1.0177 - accuracy: 0.6116 - val_loss: 1.0551 - val_accuracy: 0.6102\n",
      "Epoch 39/100\n",
      "226/226 [==============================] - 326s 1s/step - loss: 1.0269 - accuracy: 0.6124 - val_loss: 1.0417 - val_accuracy: 0.6124\n",
      "Epoch 40/100\n",
      "226/226 [==============================] - 326s 1s/step - loss: 1.0178 - accuracy: 0.6143 - val_loss: 1.0563 - val_accuracy: 0.6127\n",
      "Epoch 41/100\n",
      "226/226 [==============================] - 326s 1s/step - loss: 1.0111 - accuracy: 0.6197 - val_loss: 1.0450 - val_accuracy: 0.6172\n",
      "Epoch 42/100\n",
      "226/226 [==============================] - 325s 1s/step - loss: 1.0063 - accuracy: 0.6215 - val_loss: 1.0434 - val_accuracy: 0.6097\n",
      "Epoch 43/100\n",
      "226/226 [==============================] - 326s 1s/step - loss: 0.9906 - accuracy: 0.6294 - val_loss: 1.0480 - val_accuracy: 0.6085\n",
      "Epoch 44/100\n",
      "226/226 [==============================] - 325s 1s/step - loss: 0.9955 - accuracy: 0.6286 - val_loss: 1.0413 - val_accuracy: 0.6136\n",
      "Epoch 45/100\n",
      "226/226 [==============================] - 327s 1s/step - loss: 0.9848 - accuracy: 0.6291 - val_loss: 1.0592 - val_accuracy: 0.6105\n",
      "Epoch 46/100\n",
      "226/226 [==============================] - 330s 1s/step - loss: 0.9766 - accuracy: 0.6334 - val_loss: 1.0464 - val_accuracy: 0.6132\n",
      "Epoch 47/100\n",
      "226/226 [==============================] - 326s 1s/step - loss: 0.9772 - accuracy: 0.6345 - val_loss: 1.0392 - val_accuracy: 0.6186\n",
      "Epoch 48/100\n",
      "226/226 [==============================] - 325s 1s/step - loss: 0.9740 - accuracy: 0.6341 - val_loss: 1.0329 - val_accuracy: 0.6149\n",
      "Epoch 49/100\n",
      "226/226 [==============================] - 325s 1s/step - loss: 0.9587 - accuracy: 0.6439 - val_loss: 1.0535 - val_accuracy: 0.6132\n",
      "Epoch 50/100\n",
      "226/226 [==============================] - 325s 1s/step - loss: 0.9609 - accuracy: 0.6387 - val_loss: 1.0368 - val_accuracy: 0.6183\n",
      "Epoch 51/100\n",
      "226/226 [==============================] - 327s 1s/step - loss: 0.9516 - accuracy: 0.6423 - val_loss: 1.0429 - val_accuracy: 0.6185\n",
      "Epoch 52/100\n",
      "226/226 [==============================] - 326s 1s/step - loss: 0.9512 - accuracy: 0.6417 - val_loss: 1.0401 - val_accuracy: 0.6227\n",
      "Epoch 53/100\n",
      "226/226 [==============================] - 326s 1s/step - loss: 0.9438 - accuracy: 0.6446 - val_loss: 1.0467 - val_accuracy: 0.6168\n",
      "Epoch 54/100\n",
      "226/226 [==============================] - 326s 1s/step - loss: 0.9365 - accuracy: 0.6516 - val_loss: 1.0374 - val_accuracy: 0.6231\n",
      "Epoch 55/100\n",
      "226/226 [==============================] - 326s 1s/step - loss: 0.9352 - accuracy: 0.6491 - val_loss: 1.0293 - val_accuracy: 0.6241\n",
      "Epoch 56/100\n",
      "226/226 [==============================] - 326s 1s/step - loss: 0.9266 - accuracy: 0.6576 - val_loss: 1.0332 - val_accuracy: 0.6183\n",
      "Epoch 57/100\n",
      "226/226 [==============================] - 326s 1s/step - loss: 0.9289 - accuracy: 0.6545 - val_loss: 1.0403 - val_accuracy: 0.6155\n",
      "Epoch 58/100\n",
      "226/226 [==============================] - 328s 1s/step - loss: 0.9163 - accuracy: 0.6627 - val_loss: 1.0350 - val_accuracy: 0.6206\n",
      "Epoch 59/100\n",
      "226/226 [==============================] - 326s 1s/step - loss: 0.9179 - accuracy: 0.6553 - val_loss: 1.0289 - val_accuracy: 0.6193\n",
      "Epoch 60/100\n",
      "226/226 [==============================] - 328s 1s/step - loss: 0.9067 - accuracy: 0.6596 - val_loss: 1.0286 - val_accuracy: 0.6257\n",
      "Epoch 61/100\n",
      "226/226 [==============================] - 326s 1s/step - loss: 0.9095 - accuracy: 0.6613 - val_loss: 1.0400 - val_accuracy: 0.6193\n",
      "Epoch 62/100\n",
      "226/226 [==============================] - 327s 1s/step - loss: 0.9026 - accuracy: 0.6618 - val_loss: 1.0269 - val_accuracy: 0.6241\n",
      "Epoch 63/100\n",
      "226/226 [==============================] - 327s 1s/step - loss: 0.8920 - accuracy: 0.6684 - val_loss: 1.0341 - val_accuracy: 0.6199\n",
      "Epoch 64/100\n",
      "226/226 [==============================] - 327s 1s/step - loss: 0.8938 - accuracy: 0.6682 - val_loss: 1.0396 - val_accuracy: 0.6211\n",
      "Epoch 65/100\n",
      "226/226 [==============================] - 328s 1s/step - loss: 0.8839 - accuracy: 0.6724 - val_loss: 1.0419 - val_accuracy: 0.6162\n",
      "Epoch 66/100\n",
      "226/226 [==============================] - 331s 1s/step - loss: 0.8826 - accuracy: 0.6773 - val_loss: 1.0233 - val_accuracy: 0.6302\n",
      "Epoch 67/100\n",
      "226/226 [==============================] - 338s 1s/step - loss: 0.8774 - accuracy: 0.6747 - val_loss: 1.0305 - val_accuracy: 0.6240\n",
      "Epoch 68/100\n",
      "226/226 [==============================] - 341s 2s/step - loss: 0.8722 - accuracy: 0.6777 - val_loss: 1.0247 - val_accuracy: 0.6252\n",
      "Epoch 69/100\n",
      "226/226 [==============================] - 339s 1s/step - loss: 0.8668 - accuracy: 0.6769 - val_loss: 1.0309 - val_accuracy: 0.6274\n",
      "Epoch 70/100\n",
      "226/226 [==============================] - 336s 1s/step - loss: 0.8624 - accuracy: 0.6818 - val_loss: 1.0317 - val_accuracy: 0.6234\n",
      "Epoch 71/100\n",
      "226/226 [==============================] - 337s 1s/step - loss: 0.8534 - accuracy: 0.6842 - val_loss: 1.0314 - val_accuracy: 0.6231\n",
      "Epoch 72/100\n",
      "226/226 [==============================] - 337s 1s/step - loss: 0.8550 - accuracy: 0.6809 - val_loss: 1.0342 - val_accuracy: 0.6210\n",
      "Epoch 73/100\n",
      "226/226 [==============================] - 338s 1s/step - loss: 0.8553 - accuracy: 0.6851 - val_loss: 1.0216 - val_accuracy: 0.6257\n",
      "Epoch 74/100\n",
      "226/226 [==============================] - 336s 1s/step - loss: 0.8405 - accuracy: 0.6886 - val_loss: 1.0356 - val_accuracy: 0.6183\n",
      "Epoch 75/100\n",
      "226/226 [==============================] - 336s 1s/step - loss: 0.8419 - accuracy: 0.6882 - val_loss: 1.0258 - val_accuracy: 0.6227\n",
      "Epoch 76/100\n",
      "226/226 [==============================] - 336s 1s/step - loss: 0.8395 - accuracy: 0.6884 - val_loss: 1.0173 - val_accuracy: 0.6326\n",
      "Epoch 77/100\n",
      "226/226 [==============================] - 337s 1s/step - loss: 0.8382 - accuracy: 0.6929 - val_loss: 1.0201 - val_accuracy: 0.6254\n",
      "Epoch 78/100\n",
      "226/226 [==============================] - 339s 1s/step - loss: 0.8264 - accuracy: 0.6967 - val_loss: 1.0115 - val_accuracy: 0.6285\n",
      "Epoch 79/100\n",
      "226/226 [==============================] - 338s 1s/step - loss: 0.8203 - accuracy: 0.6973 - val_loss: 1.0221 - val_accuracy: 0.6277\n",
      "Epoch 80/100\n",
      "226/226 [==============================] - 339s 1s/step - loss: 0.8158 - accuracy: 0.7031 - val_loss: 1.0287 - val_accuracy: 0.6313\n",
      "Epoch 81/100\n",
      "226/226 [==============================] - 338s 1s/step - loss: 0.8281 - accuracy: 0.6942 - val_loss: 1.0309 - val_accuracy: 0.6298\n",
      "Epoch 82/100\n",
      "226/226 [==============================] - 338s 1s/step - loss: 0.8094 - accuracy: 0.7019 - val_loss: 1.0286 - val_accuracy: 0.6282\n",
      "Epoch 83/100\n",
      "226/226 [==============================] - 343s 2s/step - loss: 0.8069 - accuracy: 0.7031 - val_loss: 1.0380 - val_accuracy: 0.6318\n",
      "Epoch 84/100\n",
      "226/226 [==============================] - 347s 2s/step - loss: 0.8115 - accuracy: 0.7037 - val_loss: 1.0348 - val_accuracy: 0.6240\n",
      "Epoch 85/100\n",
      "226/226 [==============================] - 348s 2s/step - loss: 0.8027 - accuracy: 0.7062 - val_loss: 1.0267 - val_accuracy: 0.6313\n",
      "Epoch 86/100\n",
      "226/226 [==============================] - 346s 2s/step - loss: 0.7914 - accuracy: 0.7096 - val_loss: 1.0220 - val_accuracy: 0.6332\n",
      "Epoch 87/100\n",
      "226/226 [==============================] - 346s 2s/step - loss: 0.7897 - accuracy: 0.7109 - val_loss: 1.0329 - val_accuracy: 0.6269\n",
      "Epoch 88/100\n",
      "226/226 [==============================] - 345s 2s/step - loss: 0.7817 - accuracy: 0.7130 - val_loss: 1.0308 - val_accuracy: 0.6223\n",
      "Epoch 89/100\n",
      "226/226 [==============================] - 345s 2s/step - loss: 0.7810 - accuracy: 0.7142 - val_loss: 1.0267 - val_accuracy: 0.6281\n",
      "Epoch 90/100\n",
      "226/226 [==============================] - 342s 2s/step - loss: 0.7798 - accuracy: 0.7158 - val_loss: 1.0186 - val_accuracy: 0.6325\n",
      "Epoch 91/100\n",
      "226/226 [==============================] - 340s 2s/step - loss: 0.7818 - accuracy: 0.7127 - val_loss: 1.0364 - val_accuracy: 0.6294\n",
      "Epoch 92/100\n",
      "226/226 [==============================] - 334s 1s/step - loss: 0.7636 - accuracy: 0.7209 - val_loss: 1.0382 - val_accuracy: 0.6214\n",
      "Epoch 93/100\n",
      "226/226 [==============================] - 334s 1s/step - loss: 0.7684 - accuracy: 0.7172 - val_loss: 1.0273 - val_accuracy: 0.6319\n",
      "Epoch 94/100\n",
      "226/226 [==============================] - 340s 2s/step - loss: 0.7637 - accuracy: 0.7190 - val_loss: 1.0318 - val_accuracy: 0.6294\n",
      "Epoch 95/100\n",
      "226/226 [==============================] - 343s 2s/step - loss: 0.7579 - accuracy: 0.7226 - val_loss: 1.0306 - val_accuracy: 0.6261\n",
      "Epoch 96/100\n",
      "226/226 [==============================] - 345s 2s/step - loss: 0.7597 - accuracy: 0.7227 - val_loss: 1.0255 - val_accuracy: 0.6255\n",
      "Epoch 97/100\n",
      "226/226 [==============================] - 347s 2s/step - loss: 0.7542 - accuracy: 0.7258 - val_loss: 1.0509 - val_accuracy: 0.6335\n",
      "Epoch 98/100\n",
      "226/226 [==============================] - 348s 2s/step - loss: 0.7482 - accuracy: 0.7265 - val_loss: 1.0297 - val_accuracy: 0.6335\n",
      "Epoch 99/100\n",
      "226/226 [==============================] - 349s 2s/step - loss: 0.7421 - accuracy: 0.7312 - val_loss: 1.0433 - val_accuracy: 0.6241\n",
      "Epoch 100/100\n",
      "226/226 [==============================] - 349s 2s/step - loss: 0.7458 - accuracy: 0.7288 - val_loss: 1.0334 - val_accuracy: 0.6288\n"
     ]
    },
    {
     "data": {
      "text/plain": [
       "<keras.callbacks.History at 0x22dced0c650>"
      ]
     },
     "execution_count": 25,
     "metadata": {},
     "output_type": "execute_result"
    }
   ],
   "source": [
    "model.fit(x= x_train,y = y_train, batch_size = 128, epochs = 100, validation_data = (x_test,y_test))"
   ]
  },
  {
   "cell_type": "code",
   "execution_count": 26,
   "id": "683622c9-9ca1-4dcb-9e26-396eff6591cb",
   "metadata": {},
   "outputs": [],
   "source": [
    "model_json = model.to_json()\n",
    "with open(\"emotiondetector.json\",'w') as json_file:\n",
    "    json_file.write(model_json)\n",
    "model.save(\"emotiondetector.h5\")"
   ]
  },
  {
   "cell_type": "code",
   "execution_count": 27,
   "id": "4ef688f7-d345-451d-b569-a9fb24bd0dd2",
   "metadata": {},
   "outputs": [],
   "source": [
    "from keras.models import model_from_json"
   ]
  },
  {
   "cell_type": "code",
   "execution_count": 28,
   "id": "1c0c1a66-a965-4691-a773-2cd420edcd48",
   "metadata": {},
   "outputs": [],
   "source": [
    "json_file = open(\"emotiondetector.json\", \"r\")\n",
    "model_json = json_file.read()\n",
    "json_file.close()\n",
    "model = model_from_json(model_json)\n",
    "model.load_weights(\"emotiondetector.h5\")"
   ]
  },
  {
   "cell_type": "code",
   "execution_count": 29,
   "id": "8c62ea55-3eaa-4d25-b9a0-63893b6eec68",
   "metadata": {},
   "outputs": [],
   "source": [
    "label = ['angry','disgust','fear','happy','neutral','sad','surprise']"
   ]
  },
  {
   "cell_type": "code",
   "execution_count": 30,
   "id": "afd8ffb1-e99d-45ea-af83-200810356334",
   "metadata": {},
   "outputs": [],
   "source": [
    "def ef(image):\n",
    "    img = load_img(image,grayscale =  True )\n",
    "    feature = np.array(img)\n",
    "    feature = feature.reshape(1,48,48,1)\n",
    "    return feature/255.0"
   ]
  },
  {
   "cell_type": "code",
   "execution_count": 33,
   "id": "5c27bc0c-0606-446f-bef0-a748c1c03b5b",
   "metadata": {},
   "outputs": [
    {
     "name": "stdout",
     "output_type": "stream",
     "text": [
      "original image is of angry\n",
      "1/1 [==============================] - 0s 20ms/step\n",
      "model prediction is  angry\n"
     ]
    }
   ],
   "source": [
    "image = 'images/train/angry/22.jpg'\n",
    "print(\"original image is of angry\")\n",
    "img = ef(image)\n",
    "pred = model.predict(img)\n",
    "pred_label = label[pred.argmax()]\n",
    "print(\"model prediction is \",pred_label)"
   ]
  },
  {
   "cell_type": "code",
   "execution_count": 34,
   "id": "6fad5537-350f-4b46-852d-8462e4545ebd",
   "metadata": {},
   "outputs": [],
   "source": [
    "import matplotlib.pyplot as plt\n",
    "%matplotlib inline"
   ]
  },
  {
   "cell_type": "code",
   "execution_count": 43,
   "id": "2c9d4b08-9600-49b9-9390-66a269d05b26",
   "metadata": {},
   "outputs": [
    {
     "name": "stdout",
     "output_type": "stream",
     "text": [
      "original image is of sad\n",
      "1/1 [==============================] - 0s 20ms/step\n",
      "model prediction is  sad\n"
     ]
    },
    {
     "data": {
      "text/plain": [
       "<matplotlib.image.AxesImage at 0x22d89f5e910>"
      ]
     },
     "execution_count": 43,
     "metadata": {},
     "output_type": "execute_result"
    },
    {
     "data": {
      "image/png": "[encoded data removed]",
      "text/plain": [
       "<Figure size 640x480 with 1 Axes>"
      ]
     },
     "metadata": {},
     "output_type": "display_data"
    }
   ],
   "source": [
    "image = 'images/train/sad/321.jpg'\n",
    "print(\"original image is of sad\")\n",
    "img = ef(image)\n",
    "pred = model.predict(img)\n",
    "pred_label = label[pred.argmax()]\n",
    "print(\"model prediction is \",pred_label)\n",
    "plt.imshow(img.reshape(48,48),cmap='gray')"
   ]
  },
  {
   "cell_type": "code",
   "execution_count": 45,
   "id": "0ee4c874-4976-4bfe-9c0a-662c650ea1c4",
   "metadata": {},
   "outputs": [
    {
     "name": "stdout",
     "output_type": "stream",
     "text": [
      "original image is of fear\n",
      "1/1 [==============================] - 0s 20ms/step\n",
      "model prediction is  fear\n"
     ]
    },
    {
     "data": {
      "text/plain": [
       "<matplotlib.image.AxesImage at 0x22d8a0e1150>"
      ]
     },
     "execution_count": 45,
     "metadata": {},
     "output_type": "execute_result"
    },
    {
     "data": {
      "image/png": "[encoded data removed]",
      "text/plain": [
       "<Figure size 640x480 with 1 Axes>"
      ]
     },
     "metadata": {},
     "output_type": "display_data"
    }
   ],
   "source": [
    "image = 'images/train/fear/138.jpg'\n",
    "print(\"original image is of fear\")\n",
    "img = ef(image)\n",
    "pred = model.predict(img)\n",
    "pred_label = label[pred.argmax()]\n",
    "print(\"model prediction is \",pred_label)\n",
    "plt.imshow(img.reshape(48,48),cmap='gray')"
   ]
  },
  {
   "cell_type": "code",
   "execution_count": 37,
   "id": "8fc58a31-4da0-4640-be53-e6885f74e3db",
   "metadata": {},
   "outputs": [
    {
     "name": "stdout",
     "output_type": "stream",
     "text": [
      "original image is of disgust\n",
      "1/1 [==============================] - 0s 20ms/step\n",
      "model prediction is  disgust\n"
     ]
    },
    {
     "data": {
      "text/plain": [
       "<matplotlib.image.AxesImage at 0x22d89d0e910>"
      ]
     },
     "execution_count": 37,
     "metadata": {},
     "output_type": "execute_result"
    },
    {
     "data": {
      "image/png": "[encoded data removed]",
      "text/plain": [
       "<Figure size 640x480 with 1 Axes>"
      ]
     },
     "metadata": {},
     "output_type": "display_data"
    }
   ],
   "source": [
    "image = 'images/train/disgust/299.jpg'\n",
    "print(\"original image is of disgust\")\n",
    "img = ef(image)\n",
    "pred = model.predict(img)\n",
    "pred_label = label[pred.argmax()]\n",
    "print(\"model prediction is \",pred_label)\n",
    "plt.imshow(img.reshape(48,48),cmap='gray')"
   ]
  },
  {
   "cell_type": "code",
   "execution_count": 46,
   "id": "d314b349-d5f4-4ade-9585-49552b39ee7a",
   "metadata": {},
   "outputs": [
    {
     "name": "stdout",
     "output_type": "stream",
     "text": [
      "original image is of happy\n",
      "1/1 [==============================] - 0s 21ms/step\n",
      "model prediction is  happy\n"
     ]
    },
    {
     "data": {
      "text/plain": [
       "<matplotlib.image.AxesImage at 0x22d8a0e26d0>"
      ]
     },
     "execution_count": 46,
     "metadata": {},
     "output_type": "execute_result"
    },
    {
     "data": {
      "image/png": "[encoded data removed]",
      "text/plain": [
       "<Figure size 640x480 with 1 Axes>"
      ]
     },
     "metadata": {},
     "output_type": "display_data"
    }
   ],
   "source": [
    "image = 'images/train/happy/103.jpg'\n",
    "print(\"original image is of happy\")\n",
    "img = ef(image)\n",
    "pred = model.predict(img)\n",
    "pred_label = label[pred.argmax()]\n",
    "print(\"model prediction is \",pred_label)\n",
    "plt.imshow(img.reshape(48,48),cmap='gray')"
   ]
  },
  {
   "cell_type": "code",
   "execution_count": 47,
   "id": "68cb7b6e-6bd2-42d6-9800-28ca22efc7fc",
   "metadata": {},
   "outputs": [
    {
     "name": "stdout",
     "output_type": "stream",
     "text": [
      "original image is of surprise\n",
      "1/1 [==============================] - 0s 20ms/step\n",
      "model prediction is  surprise\n"
     ]
    },
    {
     "data": {
      "text/plain": [
       "<matplotlib.image.AxesImage at 0x22d8a1a72d0>"
      ]
     },
     "execution_count": 47,
     "metadata": {},
     "output_type": "execute_result"
    },
    {
     "data": {
      "image/png": "[encoded data removed]",
      "text/plain": [
       "<Figure size 640x480 with 1 Axes>"
      ]
     },
     "metadata": {},
     "output_type": "display_data"
    }
   ],
   "source": [
    "image = 'images/train/surprise/55.jpg'\n",
    "print(\"original image is of surprise\")\n",
    "img = ef(image)\n",
    "pred = model.predict(img)\n",
    "pred_label = label[pred.argmax()]\n",
    "print(\"model prediction is \",pred_label)\n",
    "plt.imshow(img.reshape(48,48),cmap='gray')"
   ]
  },
  {
   "cell_type": "code",
   "execution_count": 49,
   "id": "4f8695f2-160d-4bc2-a0f5-bf416e160b19",
   "metadata": {},
   "outputs": [
    {
     "name": "stdout",
     "output_type": "stream",
     "text": [
      "original image is of angry\n",
      "1/1 [==============================] - 0s 20ms/step\n",
      "model prediction is  angry\n"
     ]
    },
    {
     "data": {
      "text/plain": [
       "<matplotlib.image.AxesImage at 0x22d8a23ce50>"
      ]
     },
     "execution_count": 49,
     "metadata": {},
     "output_type": "execute_result"
    },
    {
     "data": {
      "image/png": "[encoded data removed]",
      "text/plain": [
       "<Figure size 640x480 with 1 Axes>"
      ]
     },
     "metadata": {},
     "output_type": "display_data"
    }
   ],
   "source": [
    "image = 'images/train/angry/122.jpg'\n",
    "print(\"original image is of angry\")\n",
    "img = ef(image)\n",
    "pred = model.predict(img)\n",
    "pred_label = label[pred.argmax()]\n",
    "print(\"model prediction is \",pred_label)\n",
    "plt.imshow(img.reshape(48,48),cmap='gray')"
   ]
  },
  {
   "cell_type": "code",
   "execution_count": 50,
   "id": "ea00bd2a-e6c9-41d7-97c6-a19ef4e8a360",
   "metadata": {},
   "outputs": [
    {
     "name": "stdout",
     "output_type": "stream",
     "text": [
      "original image is of neutral\n",
      "1/1 [==============================] - 0s 33ms/step\n",
      "model prediction is  neutral\n"
     ]
    },
    {
     "data": {
      "text/plain": [
       "<matplotlib.image.AxesImage at 0x22d8a2c2890>"
      ]
     },
     "execution_count": 50,
     "metadata": {},
     "output_type": "execute_result"
    },
    {
     "data": {
      "image/png": "[encoded data removed]",
      "text/plain": [
       "<Figure size 640x480 with 1 Axes>"
      ]
     },
     "metadata": {},
     "output_type": "display_data"
    }
   ],
   "source": [
    "image = 'images/train/neutral/222.jpg'\n",
    "print(\"original image is of neutral\")\n",
    "img = ef(image)\n",
    "pred = model.predict(img)\n",
    "pred_label = label[pred.argmax()]\n",
    "print(\"model prediction is \",pred_label)\n",
    "plt.imshow(img.reshape(48,48),cmap='gray')"
   ]
  },
  {
   "cell_type": "code",
   "execution_count": null,
   "id": "b47924cb-3442-4558-a3ea-5b14fa072a7f",
   "metadata": {},
   "outputs": [],
   "source": []
  }
 ],
 "metadata": {
  "kernelspec": {
   "display_name": "Python 3 (ipykernel)",
   "language": "python",
   "name": "python3"
  },
  "language_info": {
   "codemirror_mode": {
    "name": "ipython",
    "version": 3
   },
   "file_extension": ".py",
   "mimetype": "text/x-python",
   "name": "python",
   "nbconvert_exporter": "python",
   "pygments_lexer": "ipython3",
   "version": "3.11.5"
  }
 },
 "nbformat": 4,
 "nbformat_minor": 5
}
